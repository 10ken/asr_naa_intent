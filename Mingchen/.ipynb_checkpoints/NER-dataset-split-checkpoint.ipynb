{
 "cells": [
  {
   "cell_type": "code",
   "execution_count": 1,
   "id": "fff4f9aa",
   "metadata": {},
   "outputs": [
    {
     "name": "stderr",
     "output_type": "stream",
     "text": [
      "2022-06-09 03:41:40.331775: W tensorflow/stream_executor/platform/default/dso_loader.cc:59] Could not load dynamic library 'libcudart.so.10.1'; dlerror: libcudart.so.10.1: cannot open shared object file: No such file or directory\n",
      "2022-06-09 03:41:40.331813: I tensorflow/stream_executor/cuda/cudart_stub.cc:29] Ignore above cudart dlerror if you do not have a GPU set up on your machine.\n"
     ]
    }
   ],
   "source": [
    "import os\n",
    "import torch\n",
    "import numpy as np\n",
    "import pandas as pd\n",
    "\n",
    "from collections import Counter\n",
    "from transformers import AutoTokenizer, AutoModelForSequenceClassification, EvalPrediction"
   ]
  },
  {
   "cell_type": "code",
   "execution_count": 2,
   "id": "52818fe9",
   "metadata": {},
   "outputs": [],
   "source": [
    "def load_dataset(filename: str, split: str = \"train\") -> pd.DataFrame:\n",
    "    \n",
    "    in_df = pd.read_csv(filename % (split, \"seq.in\"), sep=\"\\n\", header=None, names=[\"text\"])\n",
    "    out_df = pd.read_csv(filename % (split, \"seq.out\"), sep=\"\\n\", header=None, names=[\"ne\"])\n",
    "    label_df = pd.read_csv(filename % (split, \"label\"), sep=\"\\n\", header=None, names=[\"intent\"])\n",
    "    \n",
    "    df = pd.concat([in_df, out_df, label_df], axis=1)\n",
    "    \n",
    "    return df"
   ]
  },
  {
   "cell_type": "code",
   "execution_count": 3,
   "id": "64cf3879",
   "metadata": {},
   "outputs": [],
   "source": [
    "# Load training, validation, testing dataset\n",
    "usecase = \"atis\"\n",
    "filename_template = f\"../{usecase}/%s/%s\"\n",
    "\n",
    "train_df = load_dataset(filename_template, \"train\")\n",
    "valid_df = load_dataset(filename_template, \"valid\")\n",
    "test_df = load_dataset(filename_template, \"test\")"
   ]
  },
  {
   "cell_type": "code",
   "execution_count": 4,
   "id": "6c5fe961",
   "metadata": {},
   "outputs": [],
   "source": [
    "model_name = \"microsoft/deberta-large\""
   ]
  },
  {
   "cell_type": "code",
   "execution_count": 5,
   "id": "6ed495e2",
   "metadata": {},
   "outputs": [],
   "source": [
    "tokenizer = AutoTokenizer.from_pretrained(model_name)"
   ]
  },
  {
   "cell_type": "code",
   "execution_count": 8,
   "id": "f07180a9",
   "metadata": {},
   "outputs": [],
   "source": [
    "# Align name entities with tokens\n",
    "def align_tokens(\n",
    "    text: str = \"i want to fly from baltimore to dallas round trip\",\n",
    "    ne_text: str = \"O O O O O B-fromloc.city_name O B-toloc.city_name B-round_trip I-round_trip\",\n",
    "    test: bool = False,\n",
    ") -> list:\n",
    "    tokens = tokenizer.tokenize(text)\n",
    "    ne = ne_text.split(\" \")\n",
    "\n",
    "    index = 0\n",
    "    token_pos = []\n",
    "    ne_tags = []\n",
    "\n",
    "    for i, token in enumerate(tokens):\n",
    "        if i == 0 or token.startswith(\"Ġ\"):\n",
    "            token_pos.append(0)\n",
    "\n",
    "            ne_tags.append(ne[index])\n",
    "            index += 1\n",
    "        else:\n",
    "            token_pos.append(1)\n",
    "\n",
    "            ne_tags.append(\"I\" + ne[index - 1][1:] if ne[index - 1] != \"O\" else \"O\")\n",
    "\n",
    "    if test:\n",
    "        return pd.DataFrame({\"tokens\": tokens, \"token_pos\": token_pos, \"ne_tags\": ne_tags}).transpose()\n",
    "        #print(f\"tokens: {tokens}\\ntoken_pos: {token_pos}\\nne_tags: {ne_tags}\")\n",
    "    \n",
    "    return \" \".join(ne_tags)"
   ]
  },
  {
   "cell_type": "code",
   "execution_count": 9,
   "id": "791d7960",
   "metadata": {},
   "outputs": [
    {
     "data": {
      "text/html": [
       "<div>\n",
       "<style scoped>\n",
       "    .dataframe tbody tr th:only-of-type {\n",
       "        vertical-align: middle;\n",
       "    }\n",
       "\n",
       "    .dataframe tbody tr th {\n",
       "        vertical-align: top;\n",
       "    }\n",
       "\n",
       "    .dataframe thead th {\n",
       "        text-align: right;\n",
       "    }\n",
       "</style>\n",
       "<table border=\"1\" class=\"dataframe\">\n",
       "  <thead>\n",
       "    <tr style=\"text-align: right;\">\n",
       "      <th></th>\n",
       "      <th>0</th>\n",
       "      <th>1</th>\n",
       "      <th>2</th>\n",
       "      <th>3</th>\n",
       "      <th>4</th>\n",
       "      <th>5</th>\n",
       "      <th>6</th>\n",
       "      <th>7</th>\n",
       "      <th>8</th>\n",
       "      <th>9</th>\n",
       "      <th>10</th>\n",
       "      <th>11</th>\n",
       "      <th>12</th>\n",
       "      <th>13</th>\n",
       "    </tr>\n",
       "  </thead>\n",
       "  <tbody>\n",
       "    <tr>\n",
       "      <th>tokens</th>\n",
       "      <td>i</td>\n",
       "      <td>Ġwant</td>\n",
       "      <td>.</td>\n",
       "      <td>Ġto</td>\n",
       "      <td>Ġfly</td>\n",
       "      <td>Ġfrom</td>\n",
       "      <td>Ġb</td>\n",
       "      <td>alt</td>\n",
       "      <td>imore</td>\n",
       "      <td>Ġto</td>\n",
       "      <td>Ġd</td>\n",
       "      <td>allas</td>\n",
       "      <td>Ġround</td>\n",
       "      <td>Ġtrip</td>\n",
       "    </tr>\n",
       "    <tr>\n",
       "      <th>token_pos</th>\n",
       "      <td>0</td>\n",
       "      <td>0</td>\n",
       "      <td>1</td>\n",
       "      <td>0</td>\n",
       "      <td>0</td>\n",
       "      <td>0</td>\n",
       "      <td>0</td>\n",
       "      <td>1</td>\n",
       "      <td>1</td>\n",
       "      <td>0</td>\n",
       "      <td>0</td>\n",
       "      <td>1</td>\n",
       "      <td>0</td>\n",
       "      <td>0</td>\n",
       "    </tr>\n",
       "    <tr>\n",
       "      <th>ne_tags</th>\n",
       "      <td>O</td>\n",
       "      <td>O</td>\n",
       "      <td>O</td>\n",
       "      <td>O</td>\n",
       "      <td>O</td>\n",
       "      <td>O</td>\n",
       "      <td>B-fromloc.city_name</td>\n",
       "      <td>I-fromloc.city_name</td>\n",
       "      <td>I-fromloc.city_name</td>\n",
       "      <td>O</td>\n",
       "      <td>B-toloc.city_name</td>\n",
       "      <td>I-toloc.city_name</td>\n",
       "      <td>B-round_trip</td>\n",
       "      <td>I-round_trip</td>\n",
       "    </tr>\n",
       "  </tbody>\n",
       "</table>\n",
       "</div>"
      ],
      "text/plain": [
       "          0      1  2    3     4      5                    6   \\\n",
       "tokens     i  Ġwant  .  Ġto  Ġfly  Ġfrom                   Ġb   \n",
       "token_pos  0      0  1    0     0      0                    0   \n",
       "ne_tags    O      O  O    O     O      O  B-fromloc.city_name   \n",
       "\n",
       "                            7                    8    9                  10  \\\n",
       "tokens                     alt                imore  Ġto                 Ġd   \n",
       "token_pos                    1                    1    0                  0   \n",
       "ne_tags    I-fromloc.city_name  I-fromloc.city_name    O  B-toloc.city_name   \n",
       "\n",
       "                          11            12            13  \n",
       "tokens                 allas        Ġround         Ġtrip  \n",
       "token_pos                  1             0             0  \n",
       "ne_tags    I-toloc.city_name  B-round_trip  I-round_trip  "
      ]
     },
     "execution_count": 9,
     "metadata": {},
     "output_type": "execute_result"
    }
   ],
   "source": [
    "# Test aligned results\n",
    "align_tokens(test=True)"
   ]
  },
  {
   "cell_type": "code",
   "execution_count": 292,
   "id": "e41c3db7",
   "metadata": {},
   "outputs": [
    {
     "data": {
      "text/html": [
       "<div>\n",
       "<style scoped>\n",
       "    .dataframe tbody tr th:only-of-type {\n",
       "        vertical-align: middle;\n",
       "    }\n",
       "\n",
       "    .dataframe tbody tr th {\n",
       "        vertical-align: top;\n",
       "    }\n",
       "\n",
       "    .dataframe thead th {\n",
       "        text-align: right;\n",
       "    }\n",
       "</style>\n",
       "<table border=\"1\" class=\"dataframe\">\n",
       "  <thead>\n",
       "    <tr style=\"text-align: right;\">\n",
       "      <th></th>\n",
       "      <th>0</th>\n",
       "      <th>1</th>\n",
       "      <th>2</th>\n",
       "      <th>3</th>\n",
       "      <th>4</th>\n",
       "      <th>5</th>\n",
       "      <th>6</th>\n",
       "      <th>7</th>\n",
       "      <th>8</th>\n",
       "    </tr>\n",
       "  </thead>\n",
       "  <tbody>\n",
       "    <tr>\n",
       "      <th>tokens</th>\n",
       "      <td>fl</td>\n",
       "      <td>ights</td>\n",
       "      <td>Ġfrom</td>\n",
       "      <td>Ġont</td>\n",
       "      <td>ario</td>\n",
       "      <td>Ġto</td>\n",
       "      <td>Ġfl</td>\n",
       "      <td>or</td>\n",
       "      <td>ida</td>\n",
       "    </tr>\n",
       "    <tr>\n",
       "      <th>token_pos</th>\n",
       "      <td>0</td>\n",
       "      <td>1</td>\n",
       "      <td>0</td>\n",
       "      <td>0</td>\n",
       "      <td>1</td>\n",
       "      <td>0</td>\n",
       "      <td>0</td>\n",
       "      <td>1</td>\n",
       "      <td>1</td>\n",
       "    </tr>\n",
       "    <tr>\n",
       "      <th>ne_tags</th>\n",
       "      <td>O</td>\n",
       "      <td>O</td>\n",
       "      <td>O</td>\n",
       "      <td>B-fromloc.city_name</td>\n",
       "      <td>I-fromloc.city_name</td>\n",
       "      <td>O</td>\n",
       "      <td>B-toloc.state_name</td>\n",
       "      <td>I-toloc.state_name</td>\n",
       "      <td>I-toloc.state_name</td>\n",
       "    </tr>\n",
       "  </tbody>\n",
       "</table>\n",
       "</div>"
      ],
      "text/plain": [
       "            0      1      2                    3                    4    5  \\\n",
       "tokens     fl  ights  Ġfrom                 Ġont                 ario  Ġto   \n",
       "token_pos   0      1      0                    0                    1    0   \n",
       "ne_tags     O      O      O  B-fromloc.city_name  I-fromloc.city_name    O   \n",
       "\n",
       "                            6                   7                   8  \n",
       "tokens                    Ġfl                  or                 ida  \n",
       "token_pos                   0                   1                   1  \n",
       "ne_tags    B-toloc.state_name  I-toloc.state_name  I-toloc.state_name  "
      ]
     },
     "execution_count": 292,
     "metadata": {},
     "output_type": "execute_result"
    }
   ],
   "source": [
    "# Test aligned results\n",
    "align_tokens(text=valid_df[\"text\"][10], ne_text=valid_df[\"ne\"][10], test=True)"
   ]
  },
  {
   "cell_type": "code",
   "execution_count": 293,
   "id": "a396bf82",
   "metadata": {},
   "outputs": [],
   "source": [
    "# Get aligned results\n",
    "train_df[\"ne_tokens\"] = train_df.apply(lambda x: align_tokens(x[\"text\"], x[\"ne\"]), axis=1)\n",
    "valid_df[\"ne_tokens\"] = valid_df.apply(lambda x: align_tokens(x[\"text\"], x[\"ne\"]), axis=1)\n",
    "test_df[\"ne_tokens\"] = test_df.apply(lambda x: align_tokens(x[\"text\"], x[\"ne\"]), axis=1)"
   ]
  },
  {
   "cell_type": "code",
   "execution_count": 295,
   "id": "f72ea2f5",
   "metadata": {},
   "outputs": [],
   "source": [
    "# Save dataset\n",
    "suffix = \"1_1\"\n",
    "output = f\"../{usecase}/processed/\"\n",
    "\n",
    "if not os.path.exists(output):\n",
    "    os.mkdir(output)\n",
    "\n",
    "train_df.to_csv(output + f\"ner_train_v{suffix}.csv\", index=False)\n",
    "valid_df.to_csv(output + f\"ner_valid_v{suffix}.csv\", index=False)\n",
    "test_df.to_csv(output + f\"ner_test_v{suffix}.csv\", index=False)"
   ]
  },
  {
   "cell_type": "code",
   "execution_count": null,
   "id": "16012b71",
   "metadata": {},
   "outputs": [],
   "source": []
  }
 ],
 "metadata": {
  "kernelspec": {
   "display_name": "Python 3",
   "language": "python",
   "name": "python3"
  },
  "language_info": {
   "codemirror_mode": {
    "name": "ipython",
    "version": 3
   },
   "file_extension": ".py",
   "mimetype": "text/x-python",
   "name": "python",
   "nbconvert_exporter": "python",
   "pygments_lexer": "ipython3",
   "version": "3.7.10"
  }
 },
 "nbformat": 4,
 "nbformat_minor": 5
}
